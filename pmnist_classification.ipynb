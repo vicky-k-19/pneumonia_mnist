{
  "cells": [
    {
      "cell_type": "markdown",
      "source": [
        "\n",
        "# Results\n",
        "\n",
        "| Configuration                              | Accuracy |\n",
        "|--------------------------------------------|----------|\n",
        "| Custom CNN                                 | 87.18    |\n",
        "| Custom CNN + Data Augmentation             | **90.22**    |\n",
        "| Resnet18 Frozen                            | 84.46    |\n",
        "| Resnet18 Full Finetune                     | 86.22    |\n",
        "| Resnet18 Full Finetune + Data Augmentation | 88.62    |\n",
        "| Resnet50 Frozen                            | 83.65    |\n",
        "| Resnet50 Full Finetune                     | 86.70    |\n",
        "| Resnet50 Full Finetune + Data Augmentation | 87.18    |\n",
        "\n",
        "\n",
        "# Observations\n",
        "\n",
        "* Smaller models tend to work better\n",
        "* Random Horizontal Flip data augmentation technique consistently improves results\n",
        "* More hyper-parameter tuning needed"
      ],
      "metadata": {
        "id": "kx4-HVkMyKkE"
      }
    },
    {
      "cell_type": "code",
      "execution_count": null,
      "metadata": {
        "colab": {
          "base_uri": "https://localhost:8080/"
        },
        "id": "gHFweb8aladQ",
        "outputId": "aa720b90-772c-4207-eb89-08f13ebf8c93"
      },
      "outputs": [
        {
          "output_type": "stream",
          "name": "stdout",
          "text": [
            "Collecting medmnist\n",
            "  Downloading medmnist-2.2.3-py3-none-any.whl (22 kB)\n",
            "Requirement already satisfied: numpy in /usr/local/lib/python3.10/dist-packages (from medmnist) (1.23.5)\n",
            "Requirement already satisfied: pandas in /usr/local/lib/python3.10/dist-packages (from medmnist) (1.5.3)\n",
            "Requirement already satisfied: scikit-learn in /usr/local/lib/python3.10/dist-packages (from medmnist) (1.2.2)\n",
            "Requirement already satisfied: scikit-image in /usr/local/lib/python3.10/dist-packages (from medmnist) (0.19.3)\n",
            "Requirement already satisfied: tqdm in /usr/local/lib/python3.10/dist-packages (from medmnist) (4.66.1)\n",
            "Requirement already satisfied: Pillow in /usr/local/lib/python3.10/dist-packages (from medmnist) (9.4.0)\n",
            "Collecting fire (from medmnist)\n",
            "  Downloading fire-0.5.0.tar.gz (88 kB)\n",
            "\u001b[2K     \u001b[90m━━━━━━━━━━━━━━━━━━━━━━━━━━━━━━━━━━━━━━━━\u001b[0m \u001b[32m88.3/88.3 kB\u001b[0m \u001b[31m2.4 MB/s\u001b[0m eta \u001b[36m0:00:00\u001b[0m\n",
            "\u001b[?25h  Preparing metadata (setup.py) ... \u001b[?25l\u001b[?25hdone\n",
            "Requirement already satisfied: torch in /usr/local/lib/python3.10/dist-packages (from medmnist) (2.1.0+cu118)\n",
            "Requirement already satisfied: torchvision in /usr/local/lib/python3.10/dist-packages (from medmnist) (0.16.0+cu118)\n",
            "Requirement already satisfied: six in /usr/local/lib/python3.10/dist-packages (from fire->medmnist) (1.16.0)\n",
            "Requirement already satisfied: termcolor in /usr/local/lib/python3.10/dist-packages (from fire->medmnist) (2.3.0)\n",
            "Requirement already satisfied: python-dateutil>=2.8.1 in /usr/local/lib/python3.10/dist-packages (from pandas->medmnist) (2.8.2)\n",
            "Requirement already satisfied: pytz>=2020.1 in /usr/local/lib/python3.10/dist-packages (from pandas->medmnist) (2023.3.post1)\n",
            "Requirement already satisfied: scipy>=1.4.1 in /usr/local/lib/python3.10/dist-packages (from scikit-image->medmnist) (1.11.4)\n",
            "Requirement already satisfied: networkx>=2.2 in /usr/local/lib/python3.10/dist-packages (from scikit-image->medmnist) (3.2.1)\n",
            "Requirement already satisfied: imageio>=2.4.1 in /usr/local/lib/python3.10/dist-packages (from scikit-image->medmnist) (2.31.6)\n",
            "Requirement already satisfied: tifffile>=2019.7.26 in /usr/local/lib/python3.10/dist-packages (from scikit-image->medmnist) (2023.9.26)\n",
            "Requirement already satisfied: PyWavelets>=1.1.1 in /usr/local/lib/python3.10/dist-packages (from scikit-image->medmnist) (1.5.0)\n",
            "Requirement already satisfied: packaging>=20.0 in /usr/local/lib/python3.10/dist-packages (from scikit-image->medmnist) (23.2)\n",
            "Requirement already satisfied: joblib>=1.1.1 in /usr/local/lib/python3.10/dist-packages (from scikit-learn->medmnist) (1.3.2)\n",
            "Requirement already satisfied: threadpoolctl>=2.0.0 in /usr/local/lib/python3.10/dist-packages (from scikit-learn->medmnist) (3.2.0)\n",
            "Requirement already satisfied: filelock in /usr/local/lib/python3.10/dist-packages (from torch->medmnist) (3.13.1)\n",
            "Requirement already satisfied: typing-extensions in /usr/local/lib/python3.10/dist-packages (from torch->medmnist) (4.5.0)\n",
            "Requirement already satisfied: sympy in /usr/local/lib/python3.10/dist-packages (from torch->medmnist) (1.12)\n",
            "Requirement already satisfied: jinja2 in /usr/local/lib/python3.10/dist-packages (from torch->medmnist) (3.1.2)\n",
            "Requirement already satisfied: fsspec in /usr/local/lib/python3.10/dist-packages (from torch->medmnist) (2023.6.0)\n",
            "Requirement already satisfied: triton==2.1.0 in /usr/local/lib/python3.10/dist-packages (from torch->medmnist) (2.1.0)\n",
            "Requirement already satisfied: requests in /usr/local/lib/python3.10/dist-packages (from torchvision->medmnist) (2.31.0)\n",
            "Requirement already satisfied: MarkupSafe>=2.0 in /usr/local/lib/python3.10/dist-packages (from jinja2->torch->medmnist) (2.1.3)\n",
            "Requirement already satisfied: charset-normalizer<4,>=2 in /usr/local/lib/python3.10/dist-packages (from requests->torchvision->medmnist) (3.3.2)\n",
            "Requirement already satisfied: idna<4,>=2.5 in /usr/local/lib/python3.10/dist-packages (from requests->torchvision->medmnist) (3.6)\n",
            "Requirement already satisfied: urllib3<3,>=1.21.1 in /usr/local/lib/python3.10/dist-packages (from requests->torchvision->medmnist) (2.0.7)\n",
            "Requirement already satisfied: certifi>=2017.4.17 in /usr/local/lib/python3.10/dist-packages (from requests->torchvision->medmnist) (2023.11.17)\n",
            "Requirement already satisfied: mpmath>=0.19 in /usr/local/lib/python3.10/dist-packages (from sympy->torch->medmnist) (1.3.0)\n",
            "Building wheels for collected packages: fire\n",
            "  Building wheel for fire (setup.py) ... \u001b[?25l\u001b[?25hdone\n",
            "  Created wheel for fire: filename=fire-0.5.0-py2.py3-none-any.whl size=116934 sha256=ecf3b57068a65dead75978d2b86a4ae19ba9552cc041b34cc444222bbf3f38dd\n",
            "  Stored in directory: /root/.cache/pip/wheels/90/d4/f7/9404e5db0116bd4d43e5666eaa3e70ab53723e1e3ea40c9a95\n",
            "Successfully built fire\n",
            "Installing collected packages: fire, medmnist\n",
            "Successfully installed fire-0.5.0 medmnist-2.2.3\n"
          ]
        }
      ],
      "source": [
        "!pip install medmnist"
      ]
    },
    {
      "cell_type": "code",
      "execution_count": null,
      "metadata": {
        "id": "GanyzmsGiJ4-"
      },
      "outputs": [],
      "source": [
        "import torch\n",
        "import torch.nn as nn\n",
        "import torch.nn.functional as F\n",
        "import torch.optim as optim\n",
        "from torch.utils.data import DataLoader\n",
        "import torchvision.models as vision_models\n",
        "from torchvision.transforms import Compose, Normalize, ToTensor\n",
        "import medmnist\n",
        "from medmnist import INFO\n",
        "from sklearn.metrics import accuracy_score, classification_report, confusion_matrix, roc_auc_score, roc_curve\n",
        "from tqdm import tqdm\n",
        "import matplotlib.pyplot as plt\n",
        "import random\n",
        "import numpy as np\n",
        "from torchvision.transforms import RandomHorizontalFlip"
      ]
    },
    {
      "cell_type": "code",
      "execution_count": null,
      "metadata": {
        "id": "boZQPHU2iRDK"
      },
      "outputs": [],
      "source": [
        "random.seed(19)\n",
        "# torch.cuda.manual_seed(19) if torch.cuda.is_available() else torch.manual_seed(19)\n",
        "BATCH_SIZE = 256\n",
        "FREEZE_PRETRAINED_EXTRACTOR = False  # for freeze = true, the model will be pretrained, for freeze=false, we train the model again\n",
        "NUM_EPOCHS = 5\n",
        "lr = 1e-3 if FREEZE_PRETRAINED_EXTRACTOR else 1e-4\n",
        "USE_DATA_AUGMENTATION = True\n",
        "USE_CUSTOM_BACKBONE = False\n",
        "if USE_CUSTOM_BACKBONE:\n",
        "  NUM_EPOCHS = 10\n",
        "  lr = 1e-3\n",
        "if FREEZE_PRETRAINED_EXTRACTOR:\n",
        "  NUM_EPOCHS = 10"
      ]
    },
    {
      "cell_type": "markdown",
      "metadata": {
        "id": "ZOtAPtepiYvS"
      },
      "source": [
        "Information on PneumoniaMNIST dataset"
      ]
    },
    {
      "cell_type": "code",
      "execution_count": null,
      "metadata": {
        "id": "Ti7ltKANidBk",
        "colab": {
          "base_uri": "https://localhost:8080/",
          "height": 1000
        },
        "outputId": "877940b2-e1b5-497a-e76d-161f7af33b26"
      },
      "outputs": [
        {
          "output_type": "stream",
          "name": "stdout",
          "text": [
            "Using downloaded and verified file: /root/.medmnist/pneumoniamnist.npz\n",
            "Using downloaded and verified file: /root/.medmnist/pneumoniamnist.npz\n",
            "Using downloaded and verified file: /root/.medmnist/pneumoniamnist.npz\n",
            "Dataset PneumoniaMNIST (pneumoniamnist)\n",
            "    Number of datapoints: 4708\n",
            "    Root location: /root/.medmnist\n",
            "    Split: train\n",
            "    Task: binary-class\n",
            "    Number of channels: 1\n",
            "    Meaning of labels: {'0': 'normal', '1': 'pneumonia'}\n",
            "    Number of samples: {'train': 4708, 'val': 524, 'test': 624}\n",
            "    Description: The PneumoniaMNIST is based on a prior dataset of 5,856 pediatric chest X-Ray images. The task is binary-class classification of pneumonia against normal. We split the source training set with a ratio of 9:1 into training and validation set and use its source validation set as the test set. The source images are gray-scale, and their sizes are (384−2,916)×(127−2,713). We center-crop the images and resize them into 1×28×28.\n",
            "    License: CC BY 4.0\n",
            "===================\n",
            "Dataset PneumoniaMNIST (pneumoniamnist)\n",
            "    Number of datapoints: 524\n",
            "    Root location: /root/.medmnist\n",
            "    Split: val\n",
            "    Task: binary-class\n",
            "    Number of channels: 1\n",
            "    Meaning of labels: {'0': 'normal', '1': 'pneumonia'}\n",
            "    Number of samples: {'train': 4708, 'val': 524, 'test': 624}\n",
            "    Description: The PneumoniaMNIST is based on a prior dataset of 5,856 pediatric chest X-Ray images. The task is binary-class classification of pneumonia against normal. We split the source training set with a ratio of 9:1 into training and validation set and use its source validation set as the test set. The source images are gray-scale, and their sizes are (384−2,916)×(127−2,713). We center-crop the images and resize them into 1×28×28.\n",
            "    License: CC BY 4.0\n",
            "===================\n",
            "Dataset PneumoniaMNIST (pneumoniamnist)\n",
            "    Number of datapoints: 624\n",
            "    Root location: /root/.medmnist\n",
            "    Split: test\n",
            "    Task: binary-class\n",
            "    Number of channels: 1\n",
            "    Meaning of labels: {'0': 'normal', '1': 'pneumonia'}\n",
            "    Number of samples: {'train': 4708, 'val': 524, 'test': 624}\n",
            "    Description: The PneumoniaMNIST is based on a prior dataset of 5,856 pediatric chest X-Ray images. The task is binary-class classification of pneumonia against normal. We split the source training set with a ratio of 9:1 into training and validation set and use its source validation set as the test set. The source images are gray-scale, and their sizes are (384−2,916)×(127−2,713). We center-crop the images and resize them into 1×28×28.\n",
            "    License: CC BY 4.0\n"
          ]
        },
        {
          "output_type": "display_data",
          "data": {
            "text/plain": [
              "<Figure size 640x480 with 1 Axes>"
            ],
            "image/png": "[encoded data removed]"
          },
          "metadata": {}
        },
        {
          "output_type": "display_data",
          "data": {
            "text/plain": [
              "<Figure size 640x480 with 1 Axes>"
            ],
            "image/png": "[encoded data removed]"
          },
          "metadata": {}
        }
      ],
      "source": [
        "data_flag = \"pneumoniamnist\"\n",
        "info = INFO[data_flag]\n",
        "task = info[\"task\"]\n",
        "n_channels = info[\"n_channels\"]\n",
        "n_classes = len(info[\"label\"])\n",
        "download = True\n",
        "\n",
        "DataClass = getattr(medmnist, info[\"python_class\"])\n",
        "\n",
        "data_transform = Compose([ToTensor(), Normalize((0.5,), (0.5,))])\n",
        "train = DataClass(split=\"train\", transform=data_transform, download=download)\n",
        "val = DataClass(split=\"val\", transform=data_transform, download=download)\n",
        "test = DataClass(split=\"test\", transform=data_transform, download=download)\n",
        "\n",
        "print(train)\n",
        "print(\"===================\")\n",
        "print(val)\n",
        "print(\"===================\")\n",
        "print(test)\n",
        "\n",
        "\n",
        "############## Print exemplary normal and pneumonia images ##############\n",
        "\n",
        "normal_indices = [i for i, label in enumerate(train.labels) if label == [0]]\n",
        "pneumonia_indices = [i for i, label in enumerate(train.labels) if label == [1]]\n",
        "\n",
        "selected_normal_index = normal_indices[0] # Select the first image with 'normal' label\n",
        "selected_pneumonia_index = pneumonia_indices[0] # Select the first image with 'pneumonia' label\n",
        "\n",
        "image0, label0 = train[selected_normal_index]\n",
        "image0_array = np.array(image0.squeeze())\n",
        "plt.imshow(image0_array, cmap='gray')\n",
        "plt.title(f'Label: {label0} - Normal')\n",
        "\n",
        "plt.show()\n",
        "\n",
        "image1, label1 = train[selected_pneumonia_index]\n",
        "image1_array = np.array(image1.squeeze())\n",
        "plt.imshow(image1_array, cmap='gray')\n",
        "plt.title(f'Label: {label1} - Pneumonia')\n",
        "\n",
        "plt.show()"
      ]
    },
    {
      "cell_type": "markdown",
      "metadata": {
        "id": "WPb3T0Mdigtu"
      },
      "source": [
        "Define dataloaders for PneumoniaMNIST"
      ]
    },
    {
      "cell_type": "code",
      "execution_count": null,
      "metadata": {
        "id": "LlK6Ge2ZikdJ"
      },
      "outputs": [],
      "source": [
        "def get_data_loaders(train_batch_size, val_batch_size, test_batch_size):\n",
        "    data_transform = Compose([ToTensor(), Normalize((0.5,), (0.5,))])\n",
        "    if USE_DATA_AUGMENTATION:\n",
        "      train_data_transform = Compose([ToTensor(), RandomHorizontalFlip(), Normalize((0.5,), (0.5,))])\n",
        "    else:\n",
        "      train_data_transform = data_transform\n",
        "    train = DataClass(split=\"train\", transform=train_data_transform, download=download)\n",
        "    val = DataClass(split=\"val\", transform=data_transform, download=download)\n",
        "    test = DataClass(split=\"test\", transform=data_transform, download=download)\n",
        "    pil_dataset = DataClass(split=\"train\", download=download)\n",
        "    train_loader = DataLoader(\n",
        "        train,\n",
        "        num_workers=1,\n",
        "        batch_size=train_batch_size,\n",
        "        shuffle=True,\n",
        "    )\n",
        "\n",
        "    val_loader = DataLoader(\n",
        "        val, num_workers=1, batch_size=val_batch_size, shuffle=False\n",
        "    )\n",
        "\n",
        "    test_loader = DataLoader(\n",
        "        test, num_workers=1, batch_size=test_batch_size, shuffle=False\n",
        "    )\n",
        "\n",
        "    return train_loader, val_loader, test_loader"
      ]
    },
    {
      "cell_type": "markdown",
      "metadata": {
        "id": "NfW-z1diio0w"
      },
      "source": [
        "Model(s) for binary classification. The first class is a pretrained residual network, while the second is a custom convolutional network. Both classes perform feature extraction. The last class performs the classification. For our implementations, we opted for the ResNet, due to a slightly better accuracy in the test set."
      ]
    },
    {
      "cell_type": "code",
      "execution_count": null,
      "metadata": {
        "id": "m8UIO-weisNt"
      },
      "outputs": [],
      "source": [
        "class PretrainedBackbone(nn.Module):\n",
        "    def __init__(self, in_channels, original_model=None, freeze_extractor=True):\n",
        "        super(PretrainedBackbone, self).__init__()\n",
        "        self.in_channels = in_channels\n",
        "        if original_model is None:\n",
        "            original_model = vision_models.resnet18(pretrained=True)\n",
        "            # original_model = vision_models.resnet50(pretrained=True)\n",
        "        self.features = nn.Sequential(\n",
        "            *list(original_model.children())[:-3]\n",
        "        )  # get the whole model for feature extraction, apart from the last 3 layers\n",
        "        for i, p in enumerate(self.features.parameters()):\n",
        "            p.requires_grad = not freeze_extractor\n",
        "\n",
        "        self.out_size = 1024\n",
        "        # self.out_size = 1024 * 2 * 2\n",
        "\n",
        "    def forward(self, x):\n",
        "        x = self.features(x.repeat(1, 3, 1, 1)).view(x.size(0), -1) # tailor it to the 28x28 images\n",
        "\n",
        "        return x"
      ]
    },
    {
      "cell_type": "code",
      "execution_count": null,
      "metadata": {
        "id": "x2kU1w-SiwaQ"
      },
      "outputs": [],
      "source": [
        "class CustomBackbone(nn.Module):\n",
        "    def __init__(self, in_channels):\n",
        "        super(CustomBackbone, self).__init__()\n",
        "        self.layer1 = nn.Sequential(\n",
        "            nn.Conv2d(in_channels, 16, kernel_size=3), nn.BatchNorm2d(16), nn.ReLU()\n",
        "        )\n",
        "\n",
        "        self.layer2 = nn.Sequential(\n",
        "            nn.Conv2d(16, 16, kernel_size=3),\n",
        "            nn.BatchNorm2d(16),\n",
        "            nn.ReLU(),\n",
        "            nn.MaxPool2d(kernel_size=2, stride=2),\n",
        "        )\n",
        "\n",
        "        self.layer3 = nn.Sequential(\n",
        "            nn.Conv2d(16, 64, kernel_size=3), nn.BatchNorm2d(64), nn.ReLU()\n",
        "        )\n",
        "\n",
        "        self.layer4 = nn.Sequential(\n",
        "            nn.Conv2d(64, 64, kernel_size=3), nn.BatchNorm2d(64), nn.ReLU()\n",
        "        )\n",
        "\n",
        "        self.layer5 = nn.Sequential(\n",
        "            nn.Conv2d(64, 64, kernel_size=3, padding=1),\n",
        "            nn.BatchNorm2d(64),\n",
        "            nn.ReLU(),\n",
        "            nn.MaxPool2d(kernel_size=2, stride=2),\n",
        "        )\n",
        "\n",
        "        self.feat_extractor = nn.Sequential(\n",
        "            self.layer1, self.layer2, self.layer3, self.layer4, self.layer5\n",
        "        )\n",
        "\n",
        "        self.out_size = 64 * 4 * 4\n",
        "\n",
        "    def forward(self, x):\n",
        "        return self.feat_extractor(x).view(x.size(0), -1)"
      ]
    },
    {
      "cell_type": "code",
      "execution_count": null,
      "metadata": {
        "id": "gPgVgQjKi0Ml"
      },
      "outputs": [],
      "source": [
        "class Classifier(nn.Module):\n",
        "    def __init__(self, backbone, num_classes=1):\n",
        "        super(Classifier, self).__init__()\n",
        "        self.backbone = backbone\n",
        "        self.clf = nn.Linear(backbone.out_size, num_classes)\n",
        "\n",
        "    def forward(self, x):\n",
        "        feats = self.backbone(x)\n",
        "        out = self.clf(feats)\n",
        "        return out"
      ]
    },
    {
      "cell_type": "markdown",
      "metadata": {
        "id": "jxCAXs7YjGj6"
      },
      "source": [
        "Now we train, evaluate and test our clssifier. The function for the train subset is given separately from the validation and test subsets."
      ]
    },
    {
      "cell_type": "code",
      "execution_count": null,
      "metadata": {
        "id": "tLzjaNdIjXRx"
      },
      "outputs": [],
      "source": [
        "def train_epoch(\n",
        "    model, optimizer, criterion, train_loader, epoch, device=\"cpu\"\n",
        "):\n",
        "\n",
        "    train_iter = tqdm(train_loader, desc=\"training\", leave=True)\n",
        "\n",
        "    model.train()\n",
        "    train_loss = 0.0\n",
        "    correct_train = 0\n",
        "    total_train = 0\n",
        "    n_count = 0\n",
        "\n",
        "    for idx, (inputs, labels) in enumerate(train_iter):\n",
        "        inputs = inputs.to(device)\n",
        "        labels = labels.to(device)\n",
        "        n_count += 1\n",
        "        optimizer.zero_grad()\n",
        "        outputs = model(inputs)\n",
        "        labels = labels.to(torch.float32)\n",
        "        loss = criterion(outputs, labels)\n",
        "        loss.backward()\n",
        "        optimizer.step()\n",
        "        train_loss += loss.item()\n",
        "        preds = (outputs.squeeze() > 0.5).long()\n",
        "        labels = labels.squeeze()\n",
        "        total_train += labels.size(0)\n",
        "\n",
        "        correct_train += (preds == labels).sum().item()\n",
        "\n",
        "    train_accuracy = correct_train / total_train\n",
        "    train_loss = train_loss / n_count\n",
        "    return train_loss, train_accuracy"
      ]
    },
    {
      "cell_type": "code",
      "execution_count": null,
      "metadata": {
        "id": "jykc2G7rjbVl"
      },
      "outputs": [],
      "source": [
        "def eval_epoch(\n",
        "    model, criterion, eval_loader, epoch=None, device=\"cpu\"\n",
        "):\n",
        "    eval_iter = tqdm(\n",
        "        eval_loader, desc=\"validation\" if epoch is not None else \"test\", leave=True\n",
        "    )\n",
        "\n",
        "    all_predictions = []\n",
        "    all_labels = []\n",
        "    model.eval()\n",
        "    correct_eval = 0\n",
        "    total_eval = 0\n",
        "    eval_loss = 0\n",
        "    n_count = 0\n",
        "\n",
        "    with torch.no_grad():\n",
        "        for idx, (inputs, labels) in enumerate(eval_iter):\n",
        "            n_count += 1\n",
        "            inputs = inputs.to(device)\n",
        "            labels = labels.to(device)\n",
        "\n",
        "            outputs = model(inputs)\n",
        "            labels = labels.to(torch.float32)\n",
        "            loss = criterion(outputs, labels)\n",
        "            eval_loss += loss.item()\n",
        "            preds = (outputs.squeeze() > 0.5).long()\n",
        "            labels = labels.squeeze()\n",
        "\n",
        "            # for the scikit metrics\n",
        "            all_predictions.extend(preds.cpu().numpy())\n",
        "            all_labels.extend(labels.float().cpu().numpy())\n",
        "\n",
        "            total_eval += labels.size(0)\n",
        "            correct_eval += (preds == labels).sum().item()\n",
        "\n",
        "    eval_accuracy = correct_eval / total_eval\n",
        "    eval_loss = eval_loss / n_count\n",
        "\n",
        "    return eval_loss, eval_accuracy, all_predictions, all_labels"
      ]
    },
    {
      "cell_type": "markdown",
      "metadata": {
        "id": "G-PuPJVDjzIg"
      },
      "source": [
        "We iterate over all epochs."
      ]
    },
    {
      "cell_type": "code",
      "execution_count": null,
      "metadata": {
        "id": "lJeS5sY8jfNM"
      },
      "outputs": [],
      "source": [
        "def train(\n",
        "    model,\n",
        "    optimizer,\n",
        "    criterion,\n",
        "    train_loader,\n",
        "    val_loader,\n",
        "    epochs,\n",
        "    device=\"cpu\",\n",
        "):\n",
        "\n",
        "    num_epochs = epochs\n",
        "\n",
        "    train_losses = []\n",
        "    train_accuracies = []\n",
        "    val_accuracies = []\n",
        "    val_losses = []\n",
        "\n",
        "    for e in range(num_epochs):\n",
        "\n",
        "        ############### TRAIN ###############\n",
        "\n",
        "        epoch_train_loss, epoch_train_acc = train_epoch(\n",
        "            model,\n",
        "            optimizer,\n",
        "            criterion,\n",
        "            train_loader,\n",
        "            e,\n",
        "            device=device,\n",
        "        )\n",
        "        train_losses.append(epoch_train_loss)\n",
        "        train_accuracies.append(epoch_train_acc)\n",
        "\n",
        "        print(\n",
        "            f\"Epoch {e+1}/{num_epochs}, Train Loss: {epoch_train_loss}, Training Accuracy: {epoch_train_acc}\"\n",
        "        )\n",
        "\n",
        "        ############### VALIDATION ###############\n",
        "\n",
        "        epoch_val_loss, epoch_val_acc, _, _ = eval_epoch(\n",
        "            model, criterion, val_loader, epoch=e, device=device\n",
        "        )\n",
        "        val_losses.append(epoch_val_loss)\n",
        "        val_accuracies.append(epoch_val_acc)\n",
        "\n",
        "        print(\n",
        "            f\"Epoch {e+1}/{num_epochs}, Val Loss: {epoch_val_loss}, Validation Accuracy: {epoch_val_acc}\"\n",
        "        )\n",
        "\n",
        "    return train_losses, train_accuracies, val_losses, val_accuracies"
      ]
    },
    {
      "cell_type": "markdown",
      "metadata": {
        "id": "FT9XEWIVj5c5"
      },
      "source": [
        "We put everything together..."
      ]
    },
    {
      "cell_type": "code",
      "execution_count": null,
      "metadata": {
        "colab": {
          "base_uri": "https://localhost:8080/",
          "height": 1000
        },
        "id": "mVBsIjzEj9Tz",
        "outputId": "3c11612c-2cc0-4ae3-ccad-af1967060fe3"
      },
      "outputs": [
        {
          "output_type": "stream",
          "name": "stdout",
          "text": [
            "cuda\n",
            "Using downloaded and verified file: /root/.medmnist/pneumoniamnist.npz\n",
            "Using downloaded and verified file: /root/.medmnist/pneumoniamnist.npz\n",
            "Using downloaded and verified file: /root/.medmnist/pneumoniamnist.npz\n",
            "Using downloaded and verified file: /root/.medmnist/pneumoniamnist.npz\n"
          ]
        },
        {
          "output_type": "stream",
          "name": "stderr",
          "text": [
            "/usr/local/lib/python3.10/dist-packages/torchvision/models/_utils.py:208: UserWarning: The parameter 'pretrained' is deprecated since 0.13 and may be removed in the future, please use 'weights' instead.\n",
            "  warnings.warn(\n",
            "/usr/local/lib/python3.10/dist-packages/torchvision/models/_utils.py:223: UserWarning: Arguments other than a weight enum or `None` for 'weights' are deprecated since 0.13 and may be removed in the future. The current behavior is equivalent to passing `weights=ResNet18_Weights.IMAGENET1K_V1`. You can also use `weights=ResNet18_Weights.DEFAULT` to get the most up-to-date weights.\n",
            "  warnings.warn(msg)\n",
            "training: 100%|██████████| 19/19 [00:01<00:00, 13.08it/s]\n"
          ]
        },
        {
          "output_type": "stream",
          "name": "stdout",
          "text": [
            "Epoch 1/5, Train Loss: 0.453821378318887, Training Accuracy: 0.7289719626168224\n"
          ]
        },
        {
          "output_type": "stream",
          "name": "stderr",
          "text": [
            "validation: 100%|██████████| 3/3 [00:00<00:00, 13.11it/s]\n"
          ]
        },
        {
          "output_type": "stream",
          "name": "stdout",
          "text": [
            "Epoch 1/5, Val Loss: 0.30591169993082684, Validation Accuracy: 0.8854961832061069\n"
          ]
        },
        {
          "output_type": "stream",
          "name": "stderr",
          "text": [
            "training: 100%|██████████| 19/19 [00:01<00:00, 11.68it/s]\n"
          ]
        },
        {
          "output_type": "stream",
          "name": "stdout",
          "text": [
            "Epoch 2/5, Train Loss: 0.17138842218800596, Training Accuracy: 0.9513593882752761\n"
          ]
        },
        {
          "output_type": "stream",
          "name": "stderr",
          "text": [
            "validation: 100%|██████████| 3/3 [00:00<00:00, 11.48it/s]\n"
          ]
        },
        {
          "output_type": "stream",
          "name": "stdout",
          "text": [
            "Epoch 2/5, Val Loss: 0.2570931911468506, Validation Accuracy: 0.9045801526717557\n"
          ]
        },
        {
          "output_type": "stream",
          "name": "stderr",
          "text": [
            "training: 100%|██████████| 19/19 [00:01<00:00, 11.55it/s]\n"
          ]
        },
        {
          "output_type": "stream",
          "name": "stdout",
          "text": [
            "Epoch 3/5, Train Loss: 0.0967964286866941, Training Accuracy: 0.9683517417162277\n"
          ]
        },
        {
          "output_type": "stream",
          "name": "stderr",
          "text": [
            "validation: 100%|██████████| 3/3 [00:00<00:00,  9.57it/s]\n"
          ]
        },
        {
          "output_type": "stream",
          "name": "stdout",
          "text": [
            "Epoch 3/5, Val Loss: 0.08429976056019466, Validation Accuracy: 0.9732824427480916\n"
          ]
        },
        {
          "output_type": "stream",
          "name": "stderr",
          "text": [
            "training: 100%|██████████| 19/19 [00:02<00:00,  9.37it/s]\n"
          ]
        },
        {
          "output_type": "stream",
          "name": "stdout",
          "text": [
            "Epoch 4/5, Train Loss: 0.0763148371326296, Training Accuracy: 0.9751486830926084\n"
          ]
        },
        {
          "output_type": "stream",
          "name": "stderr",
          "text": [
            "validation: 100%|██████████| 3/3 [00:00<00:00,  9.17it/s]\n"
          ]
        },
        {
          "output_type": "stream",
          "name": "stdout",
          "text": [
            "Epoch 4/5, Val Loss: 0.07644292463858922, Validation Accuracy: 0.9675572519083969\n"
          ]
        },
        {
          "output_type": "stream",
          "name": "stderr",
          "text": [
            "training: 100%|██████████| 19/19 [00:01<00:00, 12.10it/s]\n"
          ]
        },
        {
          "output_type": "stream",
          "name": "stdout",
          "text": [
            "Epoch 5/5, Train Loss: 0.057901459500977866, Training Accuracy: 0.9847068819031436\n"
          ]
        },
        {
          "output_type": "stream",
          "name": "stderr",
          "text": [
            "validation: 100%|██████████| 3/3 [00:00<00:00, 13.28it/s]\n"
          ]
        },
        {
          "output_type": "stream",
          "name": "stdout",
          "text": [
            "Epoch 5/5, Val Loss: 0.10904414455095927, Validation Accuracy: 0.9675572519083969\n"
          ]
        },
        {
          "output_type": "stream",
          "name": "stderr",
          "text": [
            "test: 100%|██████████| 3/3 [00:00<00:00, 12.79it/s]\n"
          ]
        },
        {
          "output_type": "stream",
          "name": "stdout",
          "text": [
            "Test Loss: 0.32137303551038104\tTest accuracy: 0.8862179487179487\n"
          ]
        },
        {
          "output_type": "display_data",
          "data": {
            "text/plain": [
              "<Figure size 1200x400 with 2 Axes>"
            ],
            "image/png": "[encoded data removed]"
          },
          "metadata": {}
        },
        {
          "output_type": "display_data",
          "data": {
            "text/plain": [
              "<Figure size 800x800 with 1 Axes>"
            ],
            "image/png": "[encoded data removed]"
          },
          "metadata": {}
        },
        {
          "output_type": "stream",
          "name": "stdout",
          "text": [
            "AUC Score: 0.86\n",
            "Final Accuracy: 0.8862179487179487\n",
            "Confusion Matrix:\n",
            "[[173  61]\n",
            " [ 10 380]]\n",
            "Classification Report:\n",
            "              precision    recall  f1-score   support\n",
            "\n",
            "         0.0       0.95      0.74      0.83       234\n",
            "         1.0       0.86      0.97      0.91       390\n",
            "\n",
            "    accuracy                           0.89       624\n",
            "   macro avg       0.90      0.86      0.87       624\n",
            "weighted avg       0.89      0.89      0.88       624\n",
            "\n"
          ]
        }
      ],
      "source": [
        "random.seed(19)\n",
        "if torch.cuda.is_available():\n",
        "  torch.cuda.manual_seed(19)\n",
        "  torch.backends.cudnn.deterministic=True\n",
        "  np.random.seed(19)\n",
        "  device = \"cuda\"\n",
        "else:\n",
        "  torch.manual_seed(19)\n",
        "  np.random.seed(19)\n",
        "  device = \"cpu\"\n",
        "\n",
        "print(device)\n",
        "\n",
        "train_loader, val_loader, test_loader = get_data_loaders(\n",
        "    BATCH_SIZE, BATCH_SIZE, BATCH_SIZE\n",
        ")\n",
        "\n",
        "if USE_CUSTOM_BACKBONE:\n",
        "  backbone = CustomBackbone(n_channels)\n",
        "else:\n",
        "  backbone = PretrainedBackbone(\n",
        "    n_channels, freeze_extractor=FREEZE_PRETRAINED_EXTRACTOR\n",
        "  )\n",
        "\n",
        "model = Classifier(backbone, num_classes=1)\n",
        "model = model.to(device)\n",
        "criterion = nn.BCEWithLogitsLoss()\n",
        "\n",
        "optimizer = optim.Adam([p for p in model.parameters() if p.requires_grad], lr=lr)\n",
        "\n",
        "epochs = NUM_EPOCHS\n",
        "\n",
        "train_losses, train_accuracies, val_losses, val_accuracies = train(\n",
        "    model,\n",
        "    optimizer,\n",
        "    criterion,\n",
        "    train_loader,\n",
        "    val_loader,\n",
        "    epochs,\n",
        "    device=device,\n",
        ")\n",
        "\n",
        "test_loss, test_accuracies, all_preds, all_labels = eval_epoch(\n",
        "    model, criterion, test_loader, epoch=None, device=device\n",
        ")\n",
        "print(f\"Test Loss: {test_loss}\\tTest accuracy: {test_accuracies}\")\n",
        "\n",
        "# We plot the learning curves and calculate typical classification metrics\n",
        "\n",
        "plt.figure(figsize=(12, 4))\n",
        "plt.subplot(1, 2, 1)\n",
        "plt.plot(train_losses, label=\"Training Loss\")\n",
        "plt.plot(val_losses, label=\"Validation Loss\")\n",
        "plt.xlabel(\"Epoch\")\n",
        "plt.ylabel(\"Loss\")\n",
        "plt.legend()\n",
        "\n",
        "plt.subplot(1, 2, 2)\n",
        "plt.plot(train_accuracies, label=\"Training Accuracy\")\n",
        "plt.plot(val_accuracies, label=\"Validation Accuracy\")\n",
        "plt.xlabel(\"Epoch\")\n",
        "plt.ylabel(\"Accuracy\")\n",
        "plt.legend()\n",
        "\n",
        "# Compute Area Under the Curve (AUC)\n",
        "auc_score = roc_auc_score(all_labels, all_preds)\n",
        "\n",
        "# Compute Receiver Operating Characteristics (ROC)\n",
        "fpr, tpr, _ = roc_curve(all_labels, all_preds)\n",
        "\n",
        "# Compute final accuracy, confusion matrix and produce a classification report\n",
        "accuracy = accuracy_score(all_labels, all_preds)\n",
        "conf_matrix = confusion_matrix(all_labels, all_preds)\n",
        "class_report = classification_report(all_labels, all_preds)\n",
        "\n",
        "# Plot ROC curve\n",
        "plt.figure(figsize=(8, 8))\n",
        "plt.plot(fpr, tpr, color='darkgreen', lw=2, label=f'AUC = {auc_score:.2f}')\n",
        "plt.plot([0, 1], [0, 1], color='navy', lw=2, linestyle='--')\n",
        "plt.xlabel('False Positive Rate')\n",
        "plt.ylabel('True Positive Rate')\n",
        "plt.title('Receiver Operating Characteristic (ROC) Curve')\n",
        "plt.legend(loc='lower right')\n",
        "plt.show()\n",
        "\n",
        "print(f'AUC Score: {auc_score:.2f}')\n",
        "print(f\"Final Accuracy: {accuracy}\")\n",
        "print(f\"Confusion Matrix:\\n{conf_matrix}\")\n",
        "print(f\"Classification Report:\\n{class_report}\")"
      ]
    },
    {
      "cell_type": "code",
      "source": [],
      "metadata": {
        "id": "FUg_lVHlvFBc"
      },
      "execution_count": null,
      "outputs": []
    }
  ],
  "metadata": {
    "colab": {
      "provenance": [],
      "gpuType": "T4"
    },
    "kernelspec": {
      "display_name": "Python 3",
      "name": "python3"
    },
    "language_info": {
      "codemirror_mode": {
        "name": "ipython",
        "version": 3
      },
      "file_extension": ".py",
      "mimetype": "text/x-python",
      "name": "python",
      "nbconvert_exporter": "python",
      "pygments_lexer": "ipython3",
      "version": "3.8.10"
    },
    "accelerator": "GPU"
  },
  "nbformat": 4,
  "nbformat_minor": 0
}